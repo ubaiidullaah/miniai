{
 "cells": [
  {
   "cell_type": "code",
   "execution_count": 1,
   "id": "76c5765a-db4f-4166-a016-36c37baaddda",
   "metadata": {},
   "outputs": [],
   "source": [
    "import torch\n",
    "import fastcore.all as fc\n",
    "from collections.abc import Mapping\n",
    "from operator import attrgetter, itemgetter\n",
    "from copy import copy\n",
    "\n",
    "from torch import tensor, nn, optim\n",
    "from torch.utils.data import DataLoader, default_collate\n",
    "import torch.nn.functional as F\n",
    "import torchvision.transforms.functional as TF\n",
    "from datasets import load_dataset, load_dataset_builder\n",
    "from miniminiai import * # Lib by @johnowhitaker | pip install miniminiai  \n",
    "from fastprogress import progress_bar, master_bar\n",
    "from torcheval.metrics import MulticlassAccuracy, Mean"
   ]
  },
  {
   "cell_type": "code",
   "execution_count": 2,
   "id": "dfffba1c-e102-4c19-9da2-5f64daeabe03",
   "metadata": {},
   "outputs": [],
   "source": [
    "x, y = 'image', 'label'\n",
    "name = 'fashion_mnist'\n",
    "data = load_dataset(name)"
   ]
  },
  {
   "cell_type": "code",
   "execution_count": 3,
   "id": "6c2b5ac5-dd65-4223-bc24-4baf9d197ed8",
   "metadata": {},
   "outputs": [],
   "source": [
    "def inplace(f):\n",
    "    def _f(b):\n",
    "        f(b)\n",
    "        return b\n",
    "    return _f"
   ]
  },
  {
   "cell_type": "code",
   "execution_count": 4,
   "id": "f15478d5-ce7c-4628-8fca-78ffb5e4444c",
   "metadata": {},
   "outputs": [],
   "source": [
    "@inplace\n",
    "def transformi(b): b[x] = [torch.flatten(TF.to_tensor(o)) for o in b[x]]"
   ]
  },
  {
   "cell_type": "code",
   "execution_count": 5,
   "id": "6a5984d1-b58c-4266-b61b-b140366d57d6",
   "metadata": {},
   "outputs": [],
   "source": [
    "bs = 1024\n",
    "transformed = data.with_transform(transformi)"
   ]
  },
  {
   "cell_type": "code",
   "execution_count": 6,
   "id": "1693ea8a-9ab1-4ede-9c79-78aa8d9b82d8",
   "metadata": {},
   "outputs": [],
   "source": [
    "class DataLoaders:\n",
    "    def __init__(self, *dls): self.train, self.valid = dls[:2]\n",
    "\n",
    "    @classmethod\n",
    "    def from_dd(cls, dd, batch_size, as_tuple=True):\n",
    "        return cls(*[DataLoader(ds, batch_size, collate_fn=collate_dict(ds)) for ds in dd.values()])"
   ]
  },
  {
   "cell_type": "code",
   "execution_count": 7,
   "id": "3bb5702d-5f1f-4fbd-bac2-68e93e7dea2d",
   "metadata": {},
   "outputs": [],
   "source": [
    "dls = DataLoaders.from_dd(transformed,bs)"
   ]
  },
  {
   "cell_type": "code",
   "execution_count": 8,
   "id": "ca0c34d2-46d2-4397-93e0-2721cbf59ae6",
   "metadata": {},
   "outputs": [],
   "source": [
    "def run_cbs(cbs, method_name):\n",
    "    for cb in sorted(cbs, key=attrgetter('order')):\n",
    "        method = getattr(cb, method_name, None)\n",
    "        if method is not None: method()"
   ]
  },
  {
   "cell_type": "code",
   "execution_count": 9,
   "id": "47b0369d-f31a-4570-9dd8-c5dd8dd938e3",
   "metadata": {},
   "outputs": [],
   "source": [
    "class Callback:\n",
    "    order = 0"
   ]
  },
  {
   "cell_type": "code",
   "execution_count": 10,
   "id": "aee5a4ac-108e-4d98-97e9-578bca4f2114",
   "metadata": {},
   "outputs": [],
   "source": [
    "class DeviceCB(Callback):\n",
    "    def __init__(self, device=def_device): self.device=device\n",
    "    def before_fit(self): self.learn.model.to(self.device)\n",
    "    def before_batch(self): to_device(self.learn.batch, device=self.device)"
   ]
  },
  {
   "cell_type": "code",
   "execution_count": 11,
   "id": "38bf309d-33f6-43d7-9ed6-cc4368aa2b29",
   "metadata": {},
   "outputs": [],
   "source": [
    "class MetricsCB(Callback):\n",
    "    def __init__(self, *ms, **metrics):\n",
    "        for o in ms: metrics[type(o).__name__] = o # could pass both args and kwargs\n",
    "        self.metrics = metrics\n",
    "        self.all_metrics = copy(metrics) # creates shallow copy, any change to previous elements will go, new elements won't effect\n",
    "        self.all_metrics['loss'] = self.loss = Mean()\n",
    "    \n",
    "    def _log(self,d): print(d)\n",
    "    \n",
    "    def before_fit(self): self.learn.metrics = self \n",
    "    def before_epoch(self): [o.reset() for o in self.all_metrics.values()]\n",
    "    \n",
    "    def after_epoch(self): # log to print after each epoch\n",
    "        log = {k:f'{v.compute():.3f}' for k,v in self.all_metrics.items()} \n",
    "        log['epoch'] = self.learn.epoch\n",
    "        log['train'] = self.learn.model.training\n",
    "        self._log(log)\n",
    "\n",
    "    def after_batch(self):\n",
    "        x,y = to_cpu(self.learn.batch) \n",
    "        for m in self.metrics.values(): m.update(to_cpu(self.learn.preds),y)\n",
    "        self.loss.update(to_cpu(self.learn.loss), weight=len(x))\n"
   ]
  },
  {
   "cell_type": "code",
   "execution_count": 12,
   "id": "0a44a95f-d38b-4d3f-9196-ce3a138ba536",
   "metadata": {},
   "outputs": [],
   "source": [
    "# Exceptions\n",
    "class CancelFitException(Exception): pass\n",
    "class CancelEpochException(Exception): pass\n",
    "class CancelBatchException(Exception): pass"
   ]
  },
  {
   "cell_type": "code",
   "execution_count": 17,
   "id": "875a737c",
   "metadata": {},
   "outputs": [],
   "source": [
    "from contextlib import contextmanager"
   ]
  },
  {
   "cell_type": "code",
   "execution_count": 18,
   "id": "4e6f1784-6e54-4191-bc17-ecf970f0e291",
   "metadata": {},
   "outputs": [],
   "source": [
    "class Learner:\n",
    "    def __init__(self, model, dls, loss_func, lr, cbs, opt_func=optim.SGD): \n",
    "        fc.store_attr() # saves from self.model=model, ...\n",
    "        for cb in cbs: cb.learn = self\n",
    "\n",
    "    @contextmanager\n",
    "    def callback_ctxm(self, nm):\n",
    "        try:\n",
    "            self.callback(f'before_{nm}')\n",
    "            yield\n",
    "            self.callback(f'after_{nm}')\n",
    "        except globals()[f'Cancel{nm.title()}Exception']: pass\n",
    "\n",
    "    def one_batch(self):\n",
    "        self.preds = self.model(self.batch[0])\n",
    "        self.loss = self.loss_func(self.preds, self.batch[1])\n",
    "        if self.model.training:\n",
    "            self.loss.backward()\n",
    "            self.opt.step()\n",
    "            self.opt.zero_grad()\n",
    "\n",
    "\n",
    "    def one_epoch(self, train):\n",
    "        self.model.train(train)\n",
    "        self.dl = self.dls.train if train else self.dls.valid\n",
    "        with self.callback_ctxm('epoch'):\n",
    "            for self.iter, self.batch in enumerate(self.dl):\n",
    "                with self.callback_ctxm('batch'):\n",
    "                    self.preds = self.model(self.batch[0])\n",
    "                    self.loss = self.loss_func(self.preds, self.batch[1])\n",
    "                    if self.model.training:\n",
    "                        self.loss.backward()\n",
    "                        self.opt.step()\n",
    "                        self.opt.zero_grad()\n",
    "\n",
    "    def fit(self, n_epochs):\n",
    "        self.n_epochs = n_epochs\n",
    "        self.epochs = range(n_epochs)\n",
    "        self.opt = self.opt_func(self.model.parameters(), self.lr)\n",
    "        try:\n",
    "            self.callback('before_fit')\n",
    "            for self.epoch in self.epochs: \n",
    "                self.one_epoch(True)\n",
    "                self.one_epoch(False)\n",
    "            self.callback('after_fit')\n",
    "        except CancelFitException:\n",
    "            pass\n",
    "\n",
    "    def callback(self, nm): run_cbs(self.cbs, nm)"
   ]
  },
  {
   "cell_type": "code",
   "execution_count": 19,
   "id": "27f0ac10-340e-4792-859d-641b255288b2",
   "metadata": {},
   "outputs": [],
   "source": [
    "m, nh = 28*28, 50\n",
    "def get_model(): return nn.Sequential(nn.Linear(m,nh), nn.ReLU(), nn.Linear(nh,10))"
   ]
  },
  {
   "cell_type": "code",
   "execution_count": 20,
   "id": "6a2378fa-abe0-4efc-a254-1743042d8edb",
   "metadata": {},
   "outputs": [
    {
     "name": "stdout",
     "output_type": "stream",
     "text": [
      "{'accuracy': '0.625', 'loss': '1.138', 'epoch': 0, 'train': True}\n",
      "{'accuracy': '0.697', 'loss': '0.796', 'epoch': 0, 'train': False}\n"
     ]
    }
   ],
   "source": [
    "model = get_model()\n",
    "metrics = MetricsCB(accuracy=MulticlassAccuracy())\n",
    "learn = Learner(model, dls, F.cross_entropy, lr=0.2, cbs=[DeviceCB(), metrics])\n",
    "learn.fit(1)"
   ]
  },
  {
   "cell_type": "code",
   "execution_count": null,
   "id": "8afd87d8",
   "metadata": {},
   "outputs": [],
   "source": []
  }
 ],
 "metadata": {
  "kernelspec": {
   "display_name": "Python 3 (ipykernel)",
   "language": "python",
   "name": "python3"
  },
  "language_info": {
   "codemirror_mode": {
    "name": "ipython",
    "version": 3
   },
   "file_extension": ".py",
   "mimetype": "text/x-python",
   "name": "python",
   "nbconvert_exporter": "python",
   "pygments_lexer": "ipython3",
   "version": "3.11.0"
  }
 },
 "nbformat": 4,
 "nbformat_minor": 5
}
