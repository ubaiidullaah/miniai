{
 "cells": [
  {
   "cell_type": "code",
   "execution_count": 3,
   "id": "76c5765a-db4f-4166-a016-36c37baaddda",
   "metadata": {},
   "outputs": [],
   "source": [
    "import torch\n",
    "import math\n",
    "import fastcore.all as fc\n",
    "from collections.abc import Mapping\n",
    "from operator import attrgetter, itemgetter\n",
    "from copy import copy\n",
    "import matplotlib.pyplot as plt\n",
    "from torch import tensor, nn, optim\n",
    "from torch.utils.data import DataLoader, default_collate\n",
    "import torch.nn.functional as F\n",
    "import torchvision.transforms.functional as TF\n",
    "from datasets import load_dataset\n",
    "from miniminiai import * # Lib by @johnowhitaker | pip install miniminiai  \n",
    "from fastprogress import progress_bar, master_bar\n",
    "from torcheval.metrics import MulticlassAccuracy, Mean\n",
    "from functools import partial\n",
    "from contextlib import contextmanager"
   ]
  },
  {
   "cell_type": "code",
   "execution_count": 4,
   "id": "6c2b5ac5-dd65-4223-bc24-4baf9d197ed8",
   "metadata": {},
   "outputs": [],
   "source": [
    "def inplace(f):\n",
    "    def _f(b):\n",
    "        f(b)\n",
    "        return b\n",
    "    return _f"
   ]
  },
  {
   "cell_type": "code",
   "execution_count": 5,
   "id": "1693ea8a-9ab1-4ede-9c79-78aa8d9b82d8",
   "metadata": {},
   "outputs": [],
   "source": [
    "class DataLoaders:\n",
    "    def __init__(self, *dls): self.train, self.valid = dls[:2]\n",
    "\n",
    "    @classmethod\n",
    "    def from_dd(cls, dd, batch_size, as_tuple=True):\n",
    "        return cls(*[DataLoader(ds, batch_size, collate_fn=collate_dict(ds)) for ds in dd.values()])"
   ]
  },
  {
   "cell_type": "code",
   "execution_count": 6,
   "id": "dfffba1c-e102-4c19-9da2-5f64daeabe03",
   "metadata": {},
   "outputs": [],
   "source": [
    "x, y = 'image', 'label'\n",
    "name = 'fashion_mnist'\n",
    "data = load_dataset(name)\n",
    "\n",
    "@inplace\n",
    "def transformi(b): b[x] = [torch.flatten(TF.to_tensor(o)) for o in b[x]]\n",
    "\n",
    "bs = 1024\n",
    "transformed = data.with_transform(transformi)\n",
    "dls = DataLoaders.from_dd(transformed,bs)"
   ]
  },
  {
   "cell_type": "code",
   "execution_count": 7,
   "id": "0a44a95f-d38b-4d3f-9196-ce3a138ba536",
   "metadata": {},
   "outputs": [],
   "source": [
    "# Exceptions could be raised using callbacks\n",
    "class CancelFitException(Exception): pass\n",
    "class CancelEpochException(Exception): pass\n",
    "class CancelBatchException(Exception): pass"
   ]
  },
  {
   "cell_type": "markdown",
   "id": "0f2234a6",
   "metadata": {},
   "source": [
    "### Callbacks\n",
    "- run_cbs - runs callback in Learner taking method_name as arg\n",
    "- DeviceCB - Callback for moving model and batch to def_device [gpu else cpu]\n",
    "- MetricsCB - Callback for computing metrics, takes metrics from torcheval.metrics\n",
    "- TrainCB - Callback for training\n",
    "- ProgressCB - Callback for displaying progressbar from fastprogress\n",
    "- LRFinderCB - Finds best learning rate"
   ]
  },
  {
   "cell_type": "code",
   "execution_count": 8,
   "id": "ca0c34d2-46d2-4397-93e0-2721cbf59ae6",
   "metadata": {},
   "outputs": [],
   "source": [
    "def run_cbs(cbs, method_name):\n",
    "    for cb in sorted(cbs, key=attrgetter('order')):\n",
    "        method = getattr(cb, method_name, None)\n",
    "        if method is not None: method()"
   ]
  },
  {
   "cell_type": "code",
   "execution_count": 9,
   "id": "47b0369d-f31a-4570-9dd8-c5dd8dd938e3",
   "metadata": {},
   "outputs": [],
   "source": [
    "class Callback:\n",
    "    order = 0"
   ]
  },
  {
   "cell_type": "code",
   "execution_count": 10,
   "id": "aee5a4ac-108e-4d98-97e9-578bca4f2114",
   "metadata": {},
   "outputs": [],
   "source": [
    "class DeviceCB(Callback):\n",
    "    def __init__(self, device=def_device): self.device=device\n",
    "    def before_fit(self): self.learn.model.to(self.device)\n",
    "    def before_batch(self): to_device(self.learn.batch, device=self.device)"
   ]
  },
  {
   "cell_type": "code",
   "execution_count": 11,
   "id": "38bf309d-33f6-43d7-9ed6-cc4368aa2b29",
   "metadata": {},
   "outputs": [],
   "source": [
    "class MetricsCB(Callback):\n",
    "    def __init__(self, *ms, **metrics):\n",
    "        for o in ms: metrics[type(o).__name__] = o # could pass both args and kwargs\n",
    "        self.metrics = metrics\n",
    "        self.all_metrics = copy(metrics) # creates shallow copy, any change to previous elements will go, new elements won't effect\n",
    "        self.all_metrics['loss'] = self.loss = Mean()\n",
    "    \n",
    "    def _log(self,d): print(d)\n",
    "    \n",
    "    def before_fit(self): self.learn.metrics = self \n",
    "    def before_epoch(self): [o.reset() for o in self.all_metrics.values()]\n",
    "    \n",
    "    def after_epoch(self): # log to print after each epoch\n",
    "        log = {k:f'{v.compute():.3f}' for k,v in self.all_metrics.items()} \n",
    "        log['epoch'] = self.learn.epoch\n",
    "        log['train'] = self.learn.model.training\n",
    "        self._log(log)\n",
    "\n",
    "    def after_batch(self):\n",
    "        x,y = to_cpu(self.learn.batch) \n",
    "        for m in self.metrics.values(): m.update(to_cpu(self.learn.preds),y)\n",
    "        self.loss.update(to_cpu(self.learn.loss), weight=len(x))\n"
   ]
  },
  {
   "cell_type": "code",
   "execution_count": 12,
   "id": "2d3e39b9",
   "metadata": {},
   "outputs": [],
   "source": [
    "class TrainCB(Callback):\n",
    "    def predict(self): self.learn.preds = self.learn.model(self.learn.batch[0])\n",
    "    def get_loss(self): self.learn.loss = self.learn.loss_func(self.learn.preds, self.learn.batch[1])\n",
    "    def backward(self): self.learn.loss.backward()\n",
    "    def step(self): self.learn.opt.step()\n",
    "    def zero_grad(self): self.learn.opt.zero_grad()"
   ]
  },
  {
   "cell_type": "code",
   "execution_count": 13,
   "id": "2fa76919",
   "metadata": {},
   "outputs": [],
   "source": [
    "class ProgressCB(Callback):\n",
    "    order = MetricsCB.order + 1\n",
    "    def __init__(self, plot=False): self.plot = plot\n",
    "    \n",
    "    def before_fit(self):\n",
    "        self.learn.epochs = self.mbar = master_bar(self.learn.epochs)\n",
    "        if hasattr(self.learn, 'metrics'): self.learn.metrics._log = self._log\n",
    "        self.losses = []\n",
    "    def _log(self, d): self.mbar.write(str(d)) # print log to progress_bar\n",
    "    def before_epoch(self): self.learn.dl = progress_bar(self.learn.dl, leave=False, parent=self.mbar)\n",
    "    def after_batch(self):\n",
    "        self.learn.dl.comment = f'{self.learn.loss:.3f}' # shows loss as batch passes\n",
    "        if self.plot and hasattr(self.learn, 'metrics') and self.learn.model.training:\n",
    "            self.losses.append(self.learn.loss.item())\n",
    "            self.mbar.update_graph([[fc.L.range(self.losses), self.losses]])"
   ]
  },
  {
   "cell_type": "markdown",
   "id": "3dc9fce7",
   "metadata": {},
   "source": [
    "### Learner\n",
    "Basic Learner class, try not to modify it, instead create callbacks"
   ]
  },
  {
   "cell_type": "code",
   "execution_count": 14,
   "id": "4e6f1784-6e54-4191-bc17-ecf970f0e291",
   "metadata": {},
   "outputs": [],
   "source": [
    "class Learner:\n",
    "    def __init__(self, model, dls, loss_func, lr, cbs, opt_func=optim.SGD): \n",
    "        fc.store_attr() # saves from self.model=model, ...\n",
    "        for cb in cbs: cb.learn = self\n",
    "\n",
    "    @contextmanager\n",
    "    def callback_ctxm(self, nm):\n",
    "        try:\n",
    "            self.callback(f'before_{nm}')\n",
    "            yield\n",
    "            self.callback(f'after_{nm}')\n",
    "        except globals()[f'Cancel{nm.title()}Exception']: pass\n",
    "\n",
    "    def one_epoch(self, train):\n",
    "        self.model.train(train)\n",
    "        self.dl = self.dls.train if train else self.dls.valid\n",
    "        with self.callback_ctxm('epoch'):\n",
    "            for self.iter, self.batch in enumerate(self.dl):\n",
    "                with self.callback_ctxm('batch'):\n",
    "                    self.predict()\n",
    "                    self.get_loss()\n",
    "                    if self.model.training:\n",
    "                        self.backward()\n",
    "                        self.step()\n",
    "                        self.zero_grad()\n",
    "\n",
    "    def fit(self, n_epochs):\n",
    "        self.n_epochs = n_epochs\n",
    "        self.epochs = range(n_epochs)\n",
    "        self.opt = self.opt_func(self.model.parameters(), self.lr)\n",
    "        try:\n",
    "            self.callback('before_fit')\n",
    "            for self.epoch in self.epochs: \n",
    "                self.one_epoch(True)\n",
    "                self.one_epoch(False)\n",
    "            self.callback('after_fit')\n",
    "        except CancelFitException:\n",
    "            pass\n",
    "    # runs if not found\n",
    "    def __getattr__(self, name):\n",
    "        if name in ('predict', 'get_loss', 'backward', 'step', 'zero_grad'): return partial(self.callback, name)\n",
    "        raise AttributeError(name)\n",
    "\n",
    "    def callback(self, nm): run_cbs(self.cbs, nm)"
   ]
  },
  {
   "cell_type": "code",
   "execution_count": 15,
   "id": "27f0ac10-340e-4792-859d-641b255288b2",
   "metadata": {},
   "outputs": [],
   "source": [
    "m, nh = 28*28, 50\n",
    "def get_model(): return nn.Sequential(nn.Linear(m,nh), nn.ReLU(), nn.Linear(nh,10))"
   ]
  },
  {
   "cell_type": "code",
   "execution_count": 16,
   "id": "6a2378fa-abe0-4efc-a254-1743042d8edb",
   "metadata": {},
   "outputs": [
    {
     "data": {
      "text/html": [
       "\n",
       "<style>\n",
       "    /* Turns off some styling */\n",
       "    progress {\n",
       "        /* gets rid of default border in Firefox and Opera. */\n",
       "        border: none;\n",
       "        /* Needs to be in here for Safari polyfill so background images work as expected. */\n",
       "        background-size: auto;\n",
       "    }\n",
       "    progress:not([value]), progress:not([value])::-webkit-progress-bar {\n",
       "        background: repeating-linear-gradient(45deg, #7e7e7e, #7e7e7e 10px, #5c5c5c 10px, #5c5c5c 20px);\n",
       "    }\n",
       "    .progress-bar-interrupted, .progress-bar-interrupted::-webkit-progress-bar {\n",
       "        background: #F44336;\n",
       "    }\n",
       "</style>\n"
      ],
      "text/plain": [
       "<IPython.core.display.HTML object>"
      ]
     },
     "metadata": {},
     "output_type": "display_data"
    },
    {
     "data": {
      "text/html": [
       "{'accuracy': '0.599', 'loss': '1.185', 'epoch': 0, 'train': True}<p>{'accuracy': '0.689', 'loss': '0.806', 'epoch': 0, 'train': False}"
      ],
      "text/plain": [
       "<IPython.core.display.HTML object>"
      ]
     },
     "metadata": {},
     "output_type": "display_data"
    },
    {
     "data": {
      "image/png": "[encoded data removed]",
      "text/plain": [
       "<Figure size 600x400 with 1 Axes>"
      ]
     },
     "metadata": {},
     "output_type": "display_data"
    }
   ],
   "source": [
    "metrics = MetricsCB(accuracy=MulticlassAccuracy())\n",
    "learn = Learner(get_model(), dls, F.cross_entropy, lr=0.2, cbs=[TrainCB(), DeviceCB(), metrics, ProgressCB(plot=True)])\n",
    "learn.fit(1)"
   ]
  },
  {
   "cell_type": "markdown",
   "id": "5545aefb",
   "metadata": {},
   "source": [
    "### Momentum Learner\n",
    "Subclasses from Learner | No need for callback\n",
    "\n",
    "Achieves momentum mechanism using a simple technique"
   ]
  },
  {
   "cell_type": "code",
   "execution_count": 17,
   "id": "8afd87d8",
   "metadata": {},
   "outputs": [],
   "source": [
    "class MomentumLearner(Learner):\n",
    "    def __init__(self, model, dls, loss_func, lr, cbs, opt_func=optim.SGD, momentum=0.8):\n",
    "        self.mom = momentum\n",
    "        super().__init__(model, dls, loss_func, lr, cbs, opt_func)\n",
    "    def predict(self): self.preds = self.model(self.batch[0])\n",
    "    def get_loss(self): self.loss = self.loss_func(self.preds, self.batch[1])\n",
    "    def backward(self): self.loss.backward()\n",
    "    def step(self): self.opt.step() # it adds\n",
    "    def zero_grad(self):\n",
    "        for p in self.model.parameters(): p.grad *= self.mom "
   ]
  },
  {
   "cell_type": "code",
   "execution_count": 25,
   "id": "6c7bafe6",
   "metadata": {},
   "outputs": [
    {
     "data": {
      "text/html": [
       "\n",
       "<style>\n",
       "    /* Turns off some styling */\n",
       "    progress {\n",
       "        /* gets rid of default border in Firefox and Opera. */\n",
       "        border: none;\n",
       "        /* Needs to be in here for Safari polyfill so background images work as expected. */\n",
       "        background-size: auto;\n",
       "    }\n",
       "    progress:not([value]), progress:not([value])::-webkit-progress-bar {\n",
       "        background: repeating-linear-gradient(45deg, #7e7e7e, #7e7e7e 10px, #5c5c5c 10px, #5c5c5c 20px);\n",
       "    }\n",
       "    .progress-bar-interrupted, .progress-bar-interrupted::-webkit-progress-bar {\n",
       "        background: #F44336;\n",
       "    }\n",
       "</style>\n"
      ],
      "text/plain": [
       "<IPython.core.display.HTML object>"
      ]
     },
     "metadata": {},
     "output_type": "display_data"
    },
    {
     "data": {
      "text/html": [
       "{'accuracy': '0.685', 'loss': '0.891', 'epoch': 0, 'train': True}<p>{'accuracy': '0.813', 'loss': '0.532', 'epoch': 0, 'train': False}"
      ],
      "text/plain": [
       "<IPython.core.display.HTML object>"
      ]
     },
     "metadata": {},
     "output_type": "display_data"
    },
    {
     "data": {
      "image/png": "[encoded data removed]",
      "text/plain": [
       "<Figure size 600x400 with 1 Axes>"
      ]
     },
     "metadata": {},
     "output_type": "display_data"
    }
   ],
   "source": [
    "metrics = MetricsCB(accuracy=MulticlassAccuracy())\n",
    "learn = MomentumLearner(get_model(), dls, F.cross_entropy, lr=0.2, cbs=[DeviceCB(), metrics, ProgressCB(plot=True)])\n",
    "learn.fit(1)"
   ]
  },
  {
   "cell_type": "markdown",
   "id": "802a9558",
   "metadata": {},
   "source": [
    "### Learning Rate Finder CB"
   ]
  },
  {
   "cell_type": "code",
   "execution_count": 20,
   "id": "8a79b5b1",
   "metadata": {},
   "outputs": [],
   "source": [
    "class LRFinderCB(Callback):\n",
    "    def __init__(self, lr_mult=1.3): fc.store_attr()\n",
    "    \n",
    "    def before_fit(self):\n",
    "        self.lrs, self.losses = [], []\n",
    "        self.min = math.inf\n",
    "    \n",
    "    def after_batch(self):\n",
    "        if not self.learn.model.training: raise CancelEpochException()\n",
    "        self.lrs.append(self.learn.opt.param_groups[0]['lr'])\n",
    "        loss = to_cpu(self.learn.loss)\n",
    "        self.losses.append(loss)\n",
    "        if loss < self.min: self.min = loss\n",
    "        if loss > self.min*3: raise CancelFitException()\n",
    "        for g in self.learn.opt.param_groups: g['lr'] *= self.lr_mult\n",
    "    \n",
    "    def plot(self):\n",
    "        plt.plot(self.lrs, self.losses)\n",
    "        plt.xscale('log')\n",
    "        plt.xlabel('LR')\n",
    "        plt.ylabel('Loss')"
   ]
  },
  {
   "cell_type": "code",
   "execution_count": 21,
   "id": "f21899a9",
   "metadata": {},
   "outputs": [
    {
     "data": {
      "text/html": [
       "\n",
       "<style>\n",
       "    /* Turns off some styling */\n",
       "    progress {\n",
       "        /* gets rid of default border in Firefox and Opera. */\n",
       "        border: none;\n",
       "        /* Needs to be in here for Safari polyfill so background images work as expected. */\n",
       "        background-size: auto;\n",
       "    }\n",
       "    progress:not([value]), progress:not([value])::-webkit-progress-bar {\n",
       "        background: repeating-linear-gradient(45deg, #7e7e7e, #7e7e7e 10px, #5c5c5c 10px, #5c5c5c 20px);\n",
       "    }\n",
       "    .progress-bar-interrupted, .progress-bar-interrupted::-webkit-progress-bar {\n",
       "        background: #F44336;\n",
       "    }\n",
       "</style>\n"
      ],
      "text/plain": [
       "<IPython.core.display.HTML object>"
      ]
     },
     "metadata": {},
     "output_type": "display_data"
    },
    {
     "data": {
      "text/html": [
       "\n",
       "    <div>\n",
       "      <progress value='0' class='' max='1' style='width:300px; height:20px; vertical-align: middle;'></progress>\n",
       "      0.00% [0/1 00:00&lt;?]\n",
       "    </div>\n",
       "    \n",
       "\n",
       "\n",
       "    <div>\n",
       "      <progress value='33' class='' max='59' style='width:300px; height:20px; vertical-align: middle;'></progress>\n",
       "      55.93% [33/59 00:06&lt;00:05 1.967]\n",
       "    </div>\n",
       "    "
      ],
      "text/plain": [
       "<IPython.core.display.HTML object>"
      ]
     },
     "metadata": {},
     "output_type": "display_data"
    }
   ],
   "source": [
    "lrfind = LRFinderCB()\n",
    "cbs = [DeviceCB(), ProgressCB(), lrfind]\n",
    "learn = MomentumLearner(get_model(), dls, F.cross_entropy, lr=1e-4, cbs=cbs)\n",
    "learn.fit(1)"
   ]
  },
  {
   "cell_type": "code",
   "execution_count": 22,
   "id": "d4610d44",
   "metadata": {},
   "outputs": [
    {
     "data": {
      "image/png": "[encoded data removed]",
      "text/plain": [
       "<Figure size 640x480 with 1 Axes>"
      ]
     },
     "metadata": {},
     "output_type": "display_data"
    }
   ],
   "source": [
    "lrfind.plot()"
   ]
  },
  {
   "cell_type": "code",
   "execution_count": 23,
   "id": "04df265f",
   "metadata": {},
   "outputs": [
    {
     "data": {
      "text/plain": [
       "tensor(1.0233)"
      ]
     },
     "execution_count": 23,
     "metadata": {},
     "output_type": "execute_result"
    }
   ],
   "source": [
    "lrfind.min"
   ]
  },
  {
   "cell_type": "code",
   "execution_count": null,
   "id": "a13f47aa",
   "metadata": {},
   "outputs": [],
   "source": []
  }
 ],
 "metadata": {
  "kernelspec": {
   "display_name": "Python 3 (ipykernel)",
   "language": "python",
   "name": "python3"
  },
  "language_info": {
   "codemirror_mode": {
    "name": "ipython",
    "version": 3
   },
   "file_extension": ".py",
   "mimetype": "text/x-python",
   "name": "python",
   "nbconvert_exporter": "python",
   "pygments_lexer": "ipython3",
   "version": "3.11.0"
  }
 },
 "nbformat": 4,
 "nbformat_minor": 5
}
